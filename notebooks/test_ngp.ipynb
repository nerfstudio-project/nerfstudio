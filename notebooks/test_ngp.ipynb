{
 "cells": [
  {
   "cell_type": "code",
   "execution_count": null,
   "metadata": {},
   "outputs": [],
   "source": [
    "%load_ext autoreload\n",
    "%autoreload 2"
   ]
  },
  {
   "cell_type": "code",
   "execution_count": 40,
   "metadata": {},
   "outputs": [],
   "source": [
    "import torch\n",
    "from pyrad.fields.occupancy_fields.occupancy_grid import DensityGrid\n",
    "from pyrad.cuda.ray_sampler import NGPSpacedSampler\n",
    "\n",
    "#  lego [-1.5, 1.5]\n",
    "\n",
    "density_field = DensityGrid(num_cascades=2, resolution=32)\n",
    "sampler = NGPSpacedSampler(num_samples=128, density_field=density_field)\n"
   ]
  },
  {
   "cell_type": "code",
   "execution_count": null,
   "metadata": {},
   "outputs": [],
   "source": []
  },
  {
   "cell_type": "code",
   "execution_count": null,
   "metadata": {},
   "outputs": [],
   "source": []
  },
  {
   "cell_type": "code",
   "execution_count": 32,
   "metadata": {},
   "outputs": [],
   "source": [
    "import torch\n",
    "from pyrad.fields.occupancy_fields.occupancy_grid import DensityGrid\n",
    "\n",
    "\n",
    "device = \"cuda:3\"\n",
    "\n",
    "# there is a sphere at (0.5, 0.5, 0.5) with radius 0.5\n",
    "def density_eval_func(x):\n",
    "    density = (x.float() - 0.5).norm(dim=-1) < 0.5\n",
    "    return density[..., None].float()\n",
    "density_grid = DensityGrid(4, 4).to(device)\n",
    "density_grid.reset()"
   ]
  },
  {
   "cell_type": "code",
   "execution_count": 38,
   "metadata": {},
   "outputs": [
    {
     "name": "stdout",
     "output_type": "stream",
     "text": [
      "1\n",
      "tensor([0.1250, 0.3750, 0.6250, 0.8750], device='cuda:3')\n",
      "0.5\n",
      "tensor([-0.2500,  0.2500,  0.7500,  1.2500], device='cuda:3')\n",
      "0.25\n",
      "tensor([-1.,  0.,  1.,  2.], device='cuda:3')\n",
      "0.125\n",
      "tensor([-2.5000, -0.5000,  1.5000,  3.5000], device='cuda:3')\n"
     ]
    }
   ],
   "source": [
    "# update_density_grid()\n",
    "tmp_grid = -torch.ones_like(density_grid.density_grid)\n",
    "cells = density_grid.get_all_cells()\n",
    "for mip_level in range(density_grid.num_cascades):\n",
    "    mip_scale = 2 ** (-mip_level)\n",
    "    indices, coords = cells[mip_level]\n",
    "    x = (coords + torch.ones_like(coords.float()) / 2.) / density_grid.resolution\n",
    "    x = (x - 0.5) / mip_scale + 0.5\n",
    "    density = density_eval_func(x).squeeze(-1)\n",
    "    tmp_grid[mip_level, indices] = density\n",
    "    print (mip_scale)\n",
    "    print (x.unique())\n",
    "\n",
    "    # break"
   ]
  },
  {
   "cell_type": "code",
   "execution_count": null,
   "metadata": {},
   "outputs": [],
   "source": [
    "import plotly.graph_objects as go\n",
    "\n"
   ]
  },
  {
   "cell_type": "code",
   "execution_count": null,
   "metadata": {},
   "outputs": [],
   "source": []
  },
  {
   "cell_type": "code",
   "execution_count": null,
   "metadata": {},
   "outputs": [],
   "source": []
  },
  {
   "cell_type": "code",
   "execution_count": null,
   "metadata": {},
   "outputs": [],
   "source": [
    "grid_x, grid_y, grid_z = density_grid.grid_coords.split([1, 1, 1], dim=-1)\n",
    "values = density_grid.grid_coords.norm(dim=-1) > "
   ]
  },
  {
   "cell_type": "code",
   "execution_count": null,
   "metadata": {},
   "outputs": [],
   "source": [
    "import plotly.graph_objects as go\n",
    "import numpy as np\n",
    "X, Y, Z = np.mgrid[-1:1:30j, -1:1:30j, -1:1:30j]\n",
    "values =    np.sin(np.pi*X) * np.cos(np.pi*Z) * np.sin(np.pi*Y)\n",
    "\n",
    "fig = go.Figure(data=go.Volume(\n",
    "    x=X.flatten(),\n",
    "    y=Y.flatten(),\n",
    "    z=Z.flatten(),\n",
    "    value=values.flatten(),\n",
    "    isomin=-0.1,\n",
    "    isomax=0.8,\n",
    "    opacity=0.1, # needs to be small to see through all surfaces\n",
    "    surface_count=21, # needs to be a large number for good volume rendering\n",
    "    ))\n",
    "fig.show()"
   ]
  },
  {
   "cell_type": "code",
   "execution_count": null,
   "metadata": {},
   "outputs": [],
   "source": []
  }
 ],
 "metadata": {
  "kernelspec": {
   "display_name": "Python 3.8.13 ('pyrad')",
   "language": "python",
   "name": "python3"
  },
  "language_info": {
   "codemirror_mode": {
    "name": "ipython",
    "version": 3
   },
   "file_extension": ".py",
   "mimetype": "text/x-python",
   "name": "python",
   "nbconvert_exporter": "python",
   "pygments_lexer": "ipython3",
   "version": "3.8.13"
  },
  "orig_nbformat": 4,
  "vscode": {
   "interpreter": {
    "hash": "1930976eb75c9ad2b420ba44a38e7193e5ac8873ec603a7c6ff958f682deb115"
   }
  }
 },
 "nbformat": 4,
 "nbformat_minor": 2
}
