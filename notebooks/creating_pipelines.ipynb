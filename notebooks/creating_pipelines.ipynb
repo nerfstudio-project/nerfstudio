{
 "cells": [
  {
   "cell_type": "markdown",
   "metadata": {},
   "source": [
    "# Creating pipelines\n",
    "\n",
    "Here we explain how to create custom pipelines in nerfactory. Pipelines are composed of two components, namely a Dataloader and a Model."
   ]
  },
  {
   "cell_type": "code",
   "execution_count": 29,
   "metadata": {},
   "outputs": [],
   "source": [
    "# HIDDEN\n",
    "%load_ext autoreload\n",
    "%autoreload 2"
   ]
  },
  {
   "cell_type": "code",
   "execution_count": 30,
   "metadata": {},
   "outputs": [],
   "source": [
    "from typing import Dict\n",
    "import torch\n",
    "\n",
    "from nerfactory.data.dataloader import Dataloader\n",
    "from nerfactory.graphs.base import Graph\n",
    "from nerfactory.pipeline.base import Pipeline\n",
    "\n",
    "from nerfactory.graphs.instant_ngp import NGPGraph\n",
    "from nerfactory.cameras.rays import RayBundle\n",
    "\n",
    "class SemanticNGPGraph(Graph):\n",
    "    \"\"\"An instant ngp graph modified slightly to output semantics.\"\"\"\n",
    "\n",
    "    def __init__(self):\n",
    "        self.ngp_graph = NGPGraph()\n",
    "\n",
    "    def get_outputs(self, ray_bundle: RayBundle) -> Dict[str, torch.Tensor]:\n",
    "        outputs = self.ngp_graph.forward(ray_bundle)\n",
    "        outputs[\"semantics\"] = torch.rand_like(outputs[\"rgb\"])\n",
    "        return outputs\n",
    "\n",
    "class CustomPipeline(Pipeline):\n",
    "    \"\"\"The Instant NGP pipeline.\"\"\"\n",
    "\n",
    "    dataloader: Dataloader\n",
    "    model: Graph\n",
    "\n",
    "    def get_train_loss_dict(self):\n",
    "        rays, batch = self.dataloader_train_iter.next()\n",
    "        accumulated_color, _, _, mask = self.model(rays, batch)\n",
    "        masked_batch = get_masked_dict(batch, mask)\n",
    "        loss_dict = self.model.get_loss_dict(accumulated_color, masked_batch, mask)\n",
    "        return loss_dict\n",
    "\n",
    "    def get_eval_loss_dict(self):\n",
    "        rays, batch = self.dataloader_eval_iter.next()\n",
    "        accumulated_color, _, _, mask = self.model(rays, batch)\n",
    "        masked_batch = get_masked_dict(batch, mask)\n",
    "        loss_dict = self.model.get_loss_dict(accumulated_color, masked_batch, mask)\n",
    "        return loss_dict\n",
    "\n",
    "    def test_image_outputs(self) -> None:\n",
    "        \"\"\"Log the test image outputs\"\"\"\n",
    "        # camera = Camera(self.dataloader.eval_datasetinputs.camera_to_world[0])\n",
    "        pass"
   ]
  },
  {
   "cell_type": "code",
   "execution_count": 35,
   "metadata": {},
   "outputs": [],
   "source": [
    "dataloader = Dataloader(use_train=True, use_eval=True)\n",
    "graph = SemanticNGPGraph()\n",
    "pipeline = CustomPipeline(dataloader=dataloader, model=graph)"
   ]
  },
  {
   "cell_type": "markdown",
   "metadata": {},
   "source": [
    "# Creating pipelines from a config\n",
    "\n",
    "Now we show how to create a pipeline from a config, which has the following form:\n",
    "\n",
    "```python\n",
    "@dataclass\n",
    "class PipelineConfig:\n",
    "    \"\"\"Configuration for pipeline instantiation\"\"\"\n",
    "\n",
    "    _target_: str = MISSING\n",
    "    dataloader_config: DataloaderConfig = MISSING\n",
    "    graph_config: GraphConfig = MISSING\n",
    "```\n",
    "\n",
    "See [nerfactory/utils/config.py](nerfactory/utils/config.py) for more details. In this example, we will simply load from an existing configuration from [configs/graph_instant_ngp.yaml](configs/graph_instant_ngp.yaml)."
   ]
  },
  {
   "cell_type": "code",
   "execution_count": 33,
   "metadata": {},
   "outputs": [
    {
     "name": "stdout",
     "output_type": "stream",
     "text": [
      "{'data': {'use_preprocessing_cache': False, 'dataset_inputs_train': {'_target_': 'nerfactory.data.datasets.Blender', 'data_directory': 'data/blender/lego', 'alpha_color': 'white', 'downscale_factor': 1}, 'image_dataset_train': {'_target_': 'nerfactory.data.image_dataset.ImageDataset'}, 'dataloader_train': {'_target_': 'nerfactory.data.dataloader.TrainDataloader', 'image_sampler': {'_target_': 'nerfactory.data.image_sampler.CacheImageSampler', 'num_images_to_sample_from': -1}, 'pixel_sampler': {'_target_': 'nerfactory.data.pixel_sampler.PixelSampler', 'num_rays_per_batch': 8192}}, 'dataset_inputs_eval': {'_target_': 'nerfactory.data.datasets.Blender', 'data_directory': 'data/blender/lego', 'alpha_color': 'white', 'downscale_factor': 1}, 'image_dataset_eval': {'_target_': 'nerfactory.data.image_dataset.ImageDataset'}, 'dataloader_eval': {'_target_': 'nerfactory.data.dataloader.FixedIndicesEvalDataloader', 'image_indices': [0], 'num_rays_per_chunk': 8192}}, 'graph': {'_target_': 'nerfactory.graphs.instant_ngp.NGPGraph', 'enable_collider': False, 'collider_config': {'_target_': 'nerfactory.graphs.modules.scene_colliders.NearFarCollider', 'near_plane': 2.0, 'far_plane': 6.0}, 'num_coarse_samples': 64, 'num_importance_samples': 128, 'loss_coefficients': {'rgb_loss_coarse': 1.0, 'rgb_loss_fine': 1.0, 'rgb_loss': 1.0}, 'enable_density_field': True, 'density_field_config': {'_target_': 'nerfactory.fields.density_fields.density_grid.DensityGrid', 'center': 0.0, 'base_scale': 3.0, 'num_cascades': 1, 'resolution': 128, 'update_every_num_iters': 16}, 'field_implementation': 'tcnn'}}\n"
     ]
    }
   ],
   "source": [
    "import pprint\n",
    "import hydra\n",
    "hydra.core.global_hydra.GlobalHydra.instance().clear()\n",
    "from hydra import compose, initialize\n",
    "initialize(version_base=\"1.2\", config_path=\"../configs/\")\n",
    "config_name = \"graph_instant_ngp.yaml\"\n",
    "config = compose(config_name)\n",
    "pipeline_config = config.pipeline\n",
    "pprint.pprint(pipeline_config)\n",
    "\n",
    "from nerfactory.pipeline.base import setup_pipeline\n",
    "pipeline = setup_pipeline(pipeline_config, device=\"cuda\")"
   ]
  },
  {
   "cell_type": "code",
   "execution_count": null,
   "metadata": {},
   "outputs": [],
   "source": []
  }
 ],
 "metadata": {
  "kernelspec": {
   "display_name": "Python 3.8.13 ('nerfactory')",
   "language": "python",
   "name": "python3"
  },
  "language_info": {
   "codemirror_mode": {
    "name": "ipython",
    "version": 3
   },
   "file_extension": ".py",
   "mimetype": "text/x-python",
   "name": "python",
   "nbconvert_exporter": "python",
   "pygments_lexer": "ipython3",
   "version": "3.8.13"
  },
  "orig_nbformat": 4,
  "vscode": {
   "interpreter": {
    "hash": "e691f033e0f2f1b9c0a11e7e81375a1e27aec87a71fd1b1eaa545f7a5e61b3f6"
   }
  }
 },
 "nbformat": 4,
 "nbformat_minor": 2
}
