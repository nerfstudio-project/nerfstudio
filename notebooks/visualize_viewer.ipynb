{
 "cells": [
  {
   "cell_type": "markdown",
   "id": "3c00934d-0f14-4c1a-a563-94d627b377e5",
   "metadata": {},
   "source": [
    "## Notebook to visualize the viewer functionality\n"
   ]
  },
  {
   "cell_type": "code",
   "execution_count": 4,
   "id": "8501e01d-f932-4a75-8259-2def67a546d7",
   "metadata": {},
   "outputs": [],
   "source": [
    "import os\n",
    "\n",
    "os.environ[\"CUDA_DEVICE_ORDER\"] = \"PCI_BUS_ID\"\n",
    "os.environ[\"CUDA_VISIBLE_DEVICES\"] = \"4\""
   ]
  },
  {
   "cell_type": "code",
   "execution_count": 5,
   "id": "b15dfdc1-5054-40bc-9631-4c7426eecfd9",
   "metadata": {},
   "outputs": [],
   "source": [
    "from notebook_imports import *\n",
    "\n",
    "import time\n",
    "import torch\n",
    "from torch.utils.data import DataLoader\n",
    "\n",
    "from pyrad.data.dataloader import TrainDataloader\n",
    "from pyrad.data.image_dataset import ImageDataset, PanopticImageDataset\n",
    "from pyrad.data.image_sampler import CacheImageSampler\n",
    "from pyrad.data.pixel_sampler import PixelSampler\n",
    "from pyrad.data.utils import DatasetInputs, get_dataset_inputs_from_dataset_config\n",
    "from pyrad.graphs.modules.ray_generator import RayGenerator\n",
    "from pyrad.graphs.modules.scene_colliders import SceneBoundsCollider, AABBBoxCollider\n",
    "from pyrad.cameras.cameras import get_camera\n",
    "from pyrad.cameras.rays import RayBundle\n",
    "from pyrad.utils.io import get_absolute_path\n",
    "from pyrad.utils.plotly import get_line_segments_from_lines\n",
    "from pyrad.cameras.cameras import get_camera_model\n",
    "from pyrad.utils.misc import get_dict_to_torch, instantiate_from_dict_config\n",
    "from pyrad.engine.trainer import Trainer\n",
    "from pyrad.utils.config import Config, setup_config\n",
    "\n",
    "from hydra import compose, initialize\n",
    "from omegaconf import open_dict\n",
    "import pprint\n",
    "from tqdm import tqdm\n",
    "import random\n",
    "\n",
    "import numpy as np\n",
    "\n",
    "import umsgpack\n",
    "from pyrad.viewer.server.utils import get_chunks, get_intrinsics_matrix_and_camera_to_world_h\n",
    "\n",
    "from pyrad.viewer.server import viewer_utils\n",
    "from pyrad.viewer.server.visualizer import Viewer"
   ]
  },
  {
   "cell_type": "code",
   "execution_count": 6,
   "id": "7fe7478d",
   "metadata": {},
   "outputs": [],
   "source": [
    "with initialize(version_base=\"1.2\", config_path=\"../configs\"):\n",
    "    config = compose(\n",
    "        config_name=\"graph_instant_ngp.yaml\",\n",
    "        overrides=[\n",
    "            \"trainer.resume_train.load_dir=/shared/ethanweber/pyrad/outputs/blender_lego/instant_ngp/2022-07-05_200513/checkpoints\",\n",
    "            \"trainer.resume_train.load_step=5000\",\n",
    "            # \"viewer.render_image_height=50\"\n",
    "        ],\n",
    "    )\n",
    "    config = setup_config(config)"
   ]
  },
  {
   "cell_type": "code",
   "execution_count": 7,
   "id": "26d6da3c-e28a-4c55-9592-d90dccb86051",
   "metadata": {},
   "outputs": [],
   "source": [
    "vis = Viewer(zmq_url=\"tcp://127.0.0.1:6000\")"
   ]
  },
  {
   "cell_type": "code",
   "execution_count": 8,
   "id": "1b3ba0e1-ade8-4bda-bcb4-0dd2ca74dda4",
   "metadata": {},
   "outputs": [],
   "source": [
    "camera = get_camera_from_vis(vis)"
   ]
  },
  {
   "cell_type": "code",
   "execution_count": 13,
   "id": "4fc904a7-1a85-4c0b-8b2c-7bb84508bc35",
   "metadata": {},
   "outputs": [
    {
     "data": {
      "text/plain": [
       "37.55772018432617"
      ]
     },
     "execution_count": 13,
     "metadata": {},
     "output_type": "execute_result"
    }
   ],
   "source": [
    "camera.cx"
   ]
  },
  {
   "cell_type": "code",
   "execution_count": 14,
   "id": "b92955e6-ed9f-426f-8ef6-a43af3813c82",
   "metadata": {},
   "outputs": [
    {
     "data": {
      "text/plain": [
       "50.0"
      ]
     },
     "execution_count": 14,
     "metadata": {},
     "output_type": "execute_result"
    }
   ],
   "source": [
    "camera.cy"
   ]
  },
  {
   "cell_type": "code",
   "execution_count": 16,
   "id": "475a2da8-8273-448d-bce5-3d96c762d62f",
   "metadata": {},
   "outputs": [
    {
     "data": {
      "text/plain": [
       "138.88888549804688"
      ]
     },
     "execution_count": 16,
     "metadata": {},
     "output_type": "execute_result"
    }
   ],
   "source": [
    "camera.fx"
   ]
  },
  {
   "cell_type": "code",
   "execution_count": 17,
   "id": "1548ed77-4bec-4003-be94-02bfc086d2dd",
   "metadata": {},
   "outputs": [
    {
     "data": {
      "text/plain": [
       "138.88888549804688"
      ]
     },
     "execution_count": 17,
     "metadata": {},
     "output_type": "execute_result"
    }
   ],
   "source": [
    "camera.fy"
   ]
  },
  {
   "cell_type": "code",
   "execution_count": null,
   "id": "902cb128-293f-4c62-b95d-4723e9079c17",
   "metadata": {},
   "outputs": [],
   "source": []
  },
  {
   "cell_type": "code",
   "execution_count": 6,
   "id": "642b0a25-0e88-4eac-b661-a57a74fb10fc",
   "metadata": {},
   "outputs": [],
   "source": [
    "dataset_inputs = get_dataset_inputs_from_dataset_config(**config.data.dataset_inputs_train, split=\"train\")"
   ]
  },
  {
   "cell_type": "code",
   "execution_count": 7,
   "id": "938f090b-3b28-4fd6-82dc-d4b5c5917134",
   "metadata": {},
   "outputs": [],
   "source": [
    "# ImageDataset\n",
    "image_dataset_train = instantiate_from_dict_config(config.data.image_dataset_train, **dataset_inputs.as_dict())"
   ]
  },
  {
   "cell_type": "code",
   "execution_count": 25,
   "id": "fd04703a-aa50-45e4-95fd-4d881ff18d61",
   "metadata": {},
   "outputs": [
    {
     "name": "stdout",
     "output_type": "stream",
     "text": [
      "estimated_time: 3.3333333333333335\n"
     ]
    }
   ],
   "source": [
    "# move a camera around\n",
    "num_cameras = len(dataset_inputs.intrinsics)\n",
    "intrinsics = dataset_inputs.intrinsics\n",
    "camera_to_world = dataset_inputs.camera_to_world\n",
    "idx0, idx1 = random.sample(range(num_cameras), k=2)\n",
    "camera_a = get_camera(intrinsics[idx0], camera_to_world[idx0], None)\n",
    "camera_b = get_camera(intrinsics[idx1], camera_to_world[idx1], None)\n",
    "\n",
    "num_steps = 100\n",
    "fps = 30\n",
    "estimated_time = num_steps / fps\n",
    "print(\"estimated_time:\", estimated_time)\n",
    "\n",
    "# camera_path = InterpolatedCameraPath(camera_a, camera_b)\n",
    "# cameras = camera_path.get_path(steps=num_steps)\n",
    "\n",
    "# start = time.time()\n",
    "# for camera in cameras:\n",
    "#     viewer_utils.set_camera(vis, camera)\n",
    "\n",
    "#     # render an image\n",
    "#     # outputs = trainer.render_image_in_viewer()\n",
    "\n",
    "#     time.sleep(1 / fps)\n",
    "#     # break\n",
    "# time_elapsed = time.time() - start\n",
    "# print(\"time_elapsed:\", time_elapsed)"
   ]
  },
  {
   "cell_type": "code",
   "execution_count": null,
   "id": "ae52a7e6-2a1d-46db-9cc1-7c96b6433a33",
   "metadata": {},
   "outputs": [],
   "source": []
  },
  {
   "cell_type": "code",
   "execution_count": 1,
   "id": "495c35b4-2a3a-4bdc-afbe-456038bce103",
   "metadata": {},
   "outputs": [],
   "source": [
    "from pyrad.cameras.cameras import SimplePinholeCamera\n",
    "from pyrad.cameras.camera_paths import get_spiral_path\n",
    "from pyrad.viewer.server.utils import get_camera_from_vis"
   ]
  },
  {
   "cell_type": "code",
   "execution_count": 2,
   "id": "b2217889-d75a-461b-967d-26ae50e1a1cd",
   "metadata": {},
   "outputs": [
    {
     "ename": "NameError",
     "evalue": "name 'vis' is not defined",
     "output_type": "error",
     "traceback": [
      "\u001b[0;31m---------------------------------------------------------------------------\u001b[0m",
      "\u001b[0;31mNameError\u001b[0m                                 Traceback (most recent call last)",
      "Input \u001b[0;32mIn [2]\u001b[0m, in \u001b[0;36m<cell line: 1>\u001b[0;34m()\u001b[0m\n\u001b[0;32m----> 1\u001b[0m camera \u001b[38;5;241m=\u001b[39m get_camera_from_vis(\u001b[43mvis\u001b[49m)\n\u001b[1;32m      2\u001b[0m camera_path \u001b[38;5;241m=\u001b[39m get_spiral_path(camera, steps\u001b[38;5;241m=\u001b[39m\u001b[38;5;241m60\u001b[39m)\n",
      "\u001b[0;31mNameError\u001b[0m: name 'vis' is not defined"
     ]
    }
   ],
   "source": [
    "camera = get_camera_from_vis(vis)\n",
    "camera_path = get_spiral_path(camera, steps=60)"
   ]
  },
  {
   "cell_type": "code",
   "execution_count": 33,
   "id": "0435b51c-0103-4c8b-b21b-c250ba1813ce",
   "metadata": {},
   "outputs": [],
   "source": [
    "for cam in camera_path.cameras:\n",
    "    # print(cam.camera_to_world)\n",
    "    viewer_utils.set_camera(vis, cam)\n",
    "    time.sleep(0.1)"
   ]
  },
  {
   "cell_type": "code",
   "execution_count": null,
   "id": "41edfba2-08d3-4dc9-979f-9b2b8ad74726",
   "metadata": {},
   "outputs": [],
   "source": []
  },
  {
   "cell_type": "code",
   "execution_count": null,
   "id": "4e2bf94e-2c78-4ac8-969f-f701b8d312bc",
   "metadata": {},
   "outputs": [],
   "source": [
    "fig = go.Figure(\n",
    "    data=[\n",
    "        go.Scatter3d(\n",
    "            x=x,\n",
    "            y=y,\n",
    "            z=z,\n",
    "            mode=\"markers\",\n",
    "            marker=dict(\n",
    "                size=8,\n",
    "                color=z,  # set color to an array/list of desired values\n",
    "                colorscale=\"Viridis\",  # choose a colorscale\n",
    "                opacity=0.8,\n",
    "            ),\n",
    "        )\n",
    "    ]\n",
    ")\n",
    "fig.show()"
   ]
  }
 ],
 "metadata": {
  "interpreter": {
   "hash": "4a749acc7d255f078aee52e0584cc77b3cb5aaed1b3a7407ec4262c1bf6cb526"
  },
  "kernelspec": {
   "display_name": "Python 3 (ipykernel)",
   "language": "python",
   "name": "python3"
  },
  "language_info": {
   "codemirror_mode": {
    "name": "ipython",
    "version": 3
   },
   "file_extension": ".py",
   "mimetype": "text/x-python",
   "name": "python",
   "nbconvert_exporter": "python",
   "pygments_lexer": "ipython3",
   "version": "3.8.13"
  }
 },
 "nbformat": 4,
 "nbformat_minor": 5
}
