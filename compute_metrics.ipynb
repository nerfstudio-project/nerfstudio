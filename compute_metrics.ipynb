{
 "cells": [
  {
   "cell_type": "code",
   "execution_count": null,
   "metadata": {},
   "outputs": [],
   "source": [
    "import os\n",
    "\n",
    "import numpy as np\n",
    "import matplotlib.pyplot as plt\n",
    "from PIL import Image\n",
    "\n",
    "\n",
    "plt.rcParams\n",
    "\n",
    "\n",
    "RENDER_ROOT = \"/home/tdriver6/Documents/nerfstudio/renders/train/rgb\"\n",
    "GT_ROOT = \"/home/tdriver6/Documents/nerfstudio/data/nerfstudio/aspct_ahunamons/images\"\n",
    "\n",
    "render_paths = os.listdir(RENDER_ROOT)\n",
    "psnrs = []\n",
    "for pth in render_paths:\n",
    "    if not pth.endswith(\".png\"):\n",
    "        continue\n",
    "    print(os.path.join(RENDER_ROOT, pth))\n",
    "    rend = np.asarray(Image.open(os.path.join(RENDER_ROOT, pth)).convert(\"L\"))\n",
    "    gt = np.asarray(Image.open(os.path.join(GT_ROOT, pth)).convert(\"L\"))\n",
    "\n",
    "    plt.imshow((gt - rend) ** 2, cmap=\"jet\")\n",
    "    plt.colorbar()\n",
    "    plt.show()\n",
    "\n",
    "    plt.imshow(rend, cmap=\"gray\")\n",
    "    plt.colorbar()\n",
    "    plt.show()\n",
    "\n",
    "\n",
    "    mse = np.mean((gt - rend) ** 2)\n",
    "    psnrs.append(10 * np.log10(gt.max() ** 2 / mse))\n",
    "    print(psnrs[-1])\n",
    "\n",
    "print(\"Mean PSNR: %.2f\" % np.mean(psnrs))\n"
   ]
  }
 ],
 "metadata": {
  "kernelspec": {
   "display_name": "Python 3.8.19 ('nerfstudio')",
   "language": "python",
   "name": "python3"
  },
  "language_info": {
   "codemirror_mode": {
    "name": "ipython",
    "version": 3
   },
   "file_extension": ".py",
   "mimetype": "text/x-python",
   "name": "python",
   "nbconvert_exporter": "python",
   "pygments_lexer": "ipython3",
   "version": "3.8.19"
  },
  "orig_nbformat": 4,
  "vscode": {
   "interpreter": {
    "hash": "d1bb290f7ef6eb618af297cbac6e2293d0f49bb9d3bac6de88ea6e7f4e095596"
   }
  }
 },
 "nbformat": 4,
 "nbformat_minor": 2
}
